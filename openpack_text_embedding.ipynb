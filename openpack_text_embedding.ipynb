{
 "cells": [
  {
   "cell_type": "code",
   "outputs": [
    {
     "name": "stdout",
     "output_type": "stream",
     "text": [
      "Requirement already satisfied: InstructorEmbedding in d:\\users\\dell\\anaconda3\\lib\\site-packages (1.0.1)\n"
     ]
    }
   ],
   "source": [
    "! pip install InstructorEmbedding"
   ],
   "metadata": {
    "collapsed": false,
    "ExecuteTime": {
     "end_time": "2024-05-01T04:55:07.692918500Z",
     "start_time": "2024-05-01T04:54:58.676768200Z"
    }
   },
   "id": "780a639abb2fab51",
   "execution_count": 3
  },
  {
   "cell_type": "code",
   "outputs": [
    {
     "name": "stdout",
     "output_type": "stream",
     "text": [
      "Collecting sentence-transformers==2.2.2\n",
      "  Downloading sentence-transformers-2.2.2.tar.gz (85 kB)\n",
      "     ---------------------------------------- 0.0/86.0 kB ? eta -:--:--\n",
      "     ---- ----------------------------------- 10.2/86.0 kB ? eta -:--:--\n",
      "     --------- ---------------------------- 20.5/86.0 kB 217.9 kB/s eta 0:00:01\n",
      "     ------------- ------------------------ 30.7/86.0 kB 217.9 kB/s eta 0:00:01\n",
      "     --------------------------- ---------- 61.4/86.0 kB 326.1 kB/s eta 0:00:01\n",
      "     -------------------------------------- 86.0/86.0 kB 402.7 kB/s eta 0:00:00\n",
      "  Preparing metadata (setup.py): started\n",
      "  Preparing metadata (setup.py): finished with status 'done'\n",
      "Requirement already satisfied: transformers<5.0.0,>=4.6.0 in d:\\users\\dell\\anaconda3\\lib\\site-packages (from sentence-transformers==2.2.2) (4.40.1)\n",
      "Requirement already satisfied: tqdm in d:\\users\\dell\\anaconda3\\lib\\site-packages (from sentence-transformers==2.2.2) (4.65.0)\n",
      "Requirement already satisfied: torch>=1.6.0 in d:\\users\\dell\\anaconda3\\lib\\site-packages (from sentence-transformers==2.2.2) (2.1.2)\n",
      "Requirement already satisfied: torchvision in d:\\users\\dell\\anaconda3\\lib\\site-packages (from sentence-transformers==2.2.2) (0.16.2)\n",
      "Requirement already satisfied: numpy in d:\\users\\dell\\anaconda3\\lib\\site-packages (from sentence-transformers==2.2.2) (1.24.3)\n",
      "Requirement already satisfied: scikit-learn in d:\\users\\dell\\anaconda3\\lib\\site-packages (from sentence-transformers==2.2.2) (1.3.0)\n",
      "Requirement already satisfied: scipy in d:\\users\\dell\\anaconda3\\lib\\site-packages (from sentence-transformers==2.2.2) (1.11.1)\n",
      "Requirement already satisfied: nltk in d:\\users\\dell\\anaconda3\\lib\\site-packages (from sentence-transformers==2.2.2) (3.8.1)\n",
      "Collecting sentencepiece (from sentence-transformers==2.2.2)\n",
      "  Obtaining dependency information for sentencepiece from https://files.pythonhosted.org/packages/a2/f6/587c62fd21fc988555b85351f50bbde43a51524caafd63bc69240ded14fd/sentencepiece-0.2.0-cp311-cp311-win_amd64.whl.metadata\n",
      "  Downloading sentencepiece-0.2.0-cp311-cp311-win_amd64.whl.metadata (8.3 kB)\n",
      "Requirement already satisfied: huggingface-hub>=0.4.0 in d:\\users\\dell\\anaconda3\\lib\\site-packages (from sentence-transformers==2.2.2) (0.22.2)\n",
      "Requirement already satisfied: filelock in d:\\users\\dell\\anaconda3\\lib\\site-packages (from huggingface-hub>=0.4.0->sentence-transformers==2.2.2) (3.9.0)\n",
      "Requirement already satisfied: fsspec>=2023.5.0 in d:\\users\\dell\\anaconda3\\lib\\site-packages (from huggingface-hub>=0.4.0->sentence-transformers==2.2.2) (2024.3.1)\n",
      "Requirement already satisfied: packaging>=20.9 in d:\\users\\dell\\anaconda3\\lib\\site-packages (from huggingface-hub>=0.4.0->sentence-transformers==2.2.2) (23.1)\n",
      "Requirement already satisfied: pyyaml>=5.1 in d:\\users\\dell\\anaconda3\\lib\\site-packages (from huggingface-hub>=0.4.0->sentence-transformers==2.2.2) (6.0)\n",
      "Requirement already satisfied: requests in d:\\users\\dell\\anaconda3\\lib\\site-packages (from huggingface-hub>=0.4.0->sentence-transformers==2.2.2) (2.31.0)\n",
      "Requirement already satisfied: typing-extensions>=3.7.4.3 in d:\\users\\dell\\anaconda3\\lib\\site-packages (from huggingface-hub>=0.4.0->sentence-transformers==2.2.2) (4.7.1)\n",
      "Requirement already satisfied: sympy in d:\\users\\dell\\anaconda3\\lib\\site-packages (from torch>=1.6.0->sentence-transformers==2.2.2) (1.11.1)\n",
      "Requirement already satisfied: networkx in d:\\users\\dell\\anaconda3\\lib\\site-packages (from torch>=1.6.0->sentence-transformers==2.2.2) (3.1)\n",
      "Requirement already satisfied: jinja2 in d:\\users\\dell\\anaconda3\\lib\\site-packages (from torch>=1.6.0->sentence-transformers==2.2.2) (3.1.2)\n",
      "Requirement already satisfied: colorama in d:\\users\\dell\\anaconda3\\lib\\site-packages (from tqdm->sentence-transformers==2.2.2) (0.4.6)\n",
      "Requirement already satisfied: regex!=2019.12.17 in d:\\users\\dell\\anaconda3\\lib\\site-packages (from transformers<5.0.0,>=4.6.0->sentence-transformers==2.2.2) (2022.7.9)\n",
      "Requirement already satisfied: tokenizers<0.20,>=0.19 in d:\\users\\dell\\anaconda3\\lib\\site-packages (from transformers<5.0.0,>=4.6.0->sentence-transformers==2.2.2) (0.19.1)\n",
      "Requirement already satisfied: safetensors>=0.4.1 in d:\\users\\dell\\anaconda3\\lib\\site-packages (from transformers<5.0.0,>=4.6.0->sentence-transformers==2.2.2) (0.4.3)\n",
      "Requirement already satisfied: click in d:\\users\\dell\\anaconda3\\lib\\site-packages (from nltk->sentence-transformers==2.2.2) (8.0.4)\n",
      "Requirement already satisfied: joblib in d:\\users\\dell\\anaconda3\\lib\\site-packages (from nltk->sentence-transformers==2.2.2) (1.2.0)\n",
      "Requirement already satisfied: threadpoolctl>=2.0.0 in d:\\users\\dell\\anaconda3\\lib\\site-packages (from scikit-learn->sentence-transformers==2.2.2) (2.2.0)\n",
      "Requirement already satisfied: pillow!=8.3.*,>=5.3.0 in d:\\users\\dell\\anaconda3\\lib\\site-packages (from torchvision->sentence-transformers==2.2.2) (10.0.1)\n",
      "Requirement already satisfied: MarkupSafe>=2.0 in d:\\users\\dell\\anaconda3\\lib\\site-packages (from jinja2->torch>=1.6.0->sentence-transformers==2.2.2) (2.1.1)\n",
      "Requirement already satisfied: charset-normalizer<4,>=2 in d:\\users\\dell\\anaconda3\\lib\\site-packages (from requests->huggingface-hub>=0.4.0->sentence-transformers==2.2.2) (2.0.4)\n",
      "Requirement already satisfied: idna<4,>=2.5 in d:\\users\\dell\\anaconda3\\lib\\site-packages (from requests->huggingface-hub>=0.4.0->sentence-transformers==2.2.2) (3.4)\n",
      "Requirement already satisfied: urllib3<3,>=1.21.1 in d:\\users\\dell\\anaconda3\\lib\\site-packages (from requests->huggingface-hub>=0.4.0->sentence-transformers==2.2.2) (1.26.16)\n",
      "Requirement already satisfied: certifi>=2017.4.17 in d:\\users\\dell\\anaconda3\\lib\\site-packages (from requests->huggingface-hub>=0.4.0->sentence-transformers==2.2.2) (2024.2.2)\n",
      "Requirement already satisfied: mpmath>=0.19 in d:\\users\\dell\\anaconda3\\lib\\site-packages (from sympy->torch>=1.6.0->sentence-transformers==2.2.2) (1.3.0)\n",
      "Downloading sentencepiece-0.2.0-cp311-cp311-win_amd64.whl (991 kB)\n",
      "   ---------------------------------------- 0.0/991.5 kB ? eta -:--:--\n",
      "   -- ------------------------------------- 71.7/991.5 kB 3.8 MB/s eta 0:00:01\n",
      "   --------- ------------------------------ 225.3/991.5 kB 2.8 MB/s eta 0:00:01\n",
      "   --------------- ------------------------ 378.9/991.5 kB 2.9 MB/s eta 0:00:01\n",
      "   ------------------------ --------------- 604.2/991.5 kB 3.5 MB/s eta 0:00:01\n",
      "   -------------------------------- ------- 798.7/991.5 kB 3.6 MB/s eta 0:00:01\n",
      "   ---------------------------------------- 991.5/991.5 kB 3.7 MB/s eta 0:00:00\n",
      "Building wheels for collected packages: sentence-transformers\n",
      "  Building wheel for sentence-transformers (setup.py): started\n",
      "  Building wheel for sentence-transformers (setup.py): finished with status 'done'\n",
      "  Created wheel for sentence-transformers: filename=sentence_transformers-2.2.2-py3-none-any.whl size=125960 sha256=e8706aced67a6bddea1e4da2a5522b2b3dce2aa19af734a8d0c2c1377a4a2959\n",
      "  Stored in directory: c:\\users\\dell\\appdata\\local\\pip\\cache\\wheels\\ff\\27\\bf\\ffba8b318b02d7f691a57084ee154e26ed24d012b0c7805881\n",
      "Successfully built sentence-transformers\n",
      "Installing collected packages: sentencepiece, sentence-transformers\n",
      "  Attempting uninstall: sentence-transformers\n",
      "    Found existing installation: sentence-transformers 2.7.0\n",
      "    Uninstalling sentence-transformers-2.7.0:\n",
      "      Successfully uninstalled sentence-transformers-2.7.0\n",
      "Successfully installed sentence-transformers-2.2.2 sentencepiece-0.2.0\n"
     ]
    }
   ],
   "source": [
    "! pip install sentence-transformers==2.2.2"
   ],
   "metadata": {
    "collapsed": false,
    "ExecuteTime": {
     "end_time": "2024-05-01T05:04:56.927436200Z",
     "start_time": "2024-05-01T05:03:22.309608800Z"
    }
   },
   "id": "8a44c87b410919fa",
   "execution_count": 6
  },
  {
   "cell_type": "code",
   "execution_count": 1,
   "id": "initial_id",
   "metadata": {
    "collapsed": true,
    "ExecuteTime": {
     "end_time": "2024-05-01T05:05:17.084159900Z",
     "start_time": "2024-05-01T05:05:08.475835300Z"
    }
   },
   "outputs": [
    {
     "name": "stderr",
     "output_type": "stream",
     "text": [
      "D:\\Users\\dell\\anaconda3\\Lib\\site-packages\\InstructorEmbedding\\instructor.py:7: TqdmExperimentalWarning: Using `tqdm.autonotebook.tqdm` in notebook mode. Use `tqdm.tqdm` instead to force console mode (e.g. in jupyter console)\n",
      "  from tqdm.autonotebook import trange\n"
     ]
    }
   ],
   "source": [
    "# import os\n",
    "from InstructorEmbedding import INSTRUCTOR\n",
    "from sklearn.manifold import TSNE\n",
    "import matplotlib.pyplot as plt\n",
    "from sklearn.cluster import KMeans"
   ]
  },
  {
   "cell_type": "code",
   "outputs": [],
   "source": [
    "openpack_sentences = {\n",
    "    100: 'Picking',\n",
    "    200: 'Relocate Item Label',\n",
    "    300: 'Assemble Box',\n",
    "    400: 'Insert Items',\n",
    "    500: 'Close Box',\n",
    "    600: 'Attach Box Label',\n",
    "    700: 'Scan Label',\n",
    "    800: 'Attach Shipping Label',\n",
    "    900: 'Put on Back Table',\n",
    "    1000: 'Fill out Order'\n",
    "}"
   ],
   "metadata": {
    "collapsed": false,
    "ExecuteTime": {
     "end_time": "2024-05-01T05:05:17.124932100Z",
     "start_time": "2024-05-01T05:05:17.090282600Z"
    }
   },
   "id": "df724c05a738883e",
   "execution_count": 2
  },
  {
   "cell_type": "code",
   "outputs": [
    {
     "data": {
      "text/plain": ".gitattributes:   0%|          | 0.00/1.48k [00:00<?, ?B/s]",
      "application/vnd.jupyter.widget-view+json": {
       "version_major": 2,
       "version_minor": 0,
       "model_id": "fe750bb814c148748a838cdd3bca361c"
      }
     },
     "metadata": {},
     "output_type": "display_data"
    },
    {
     "data": {
      "text/plain": "1_Pooling/config.json:   0%|          | 0.00/270 [00:00<?, ?B/s]",
      "application/vnd.jupyter.widget-view+json": {
       "version_major": 2,
       "version_minor": 0,
       "model_id": "3af9d64406074c2faa91085c4a27d874"
      }
     },
     "metadata": {},
     "output_type": "display_data"
    },
    {
     "data": {
      "text/plain": "2_Dense/config.json:   0%|          | 0.00/116 [00:00<?, ?B/s]",
      "application/vnd.jupyter.widget-view+json": {
       "version_major": 2,
       "version_minor": 0,
       "model_id": "68aab665c46c47d1b8cc9840004f30b0"
      }
     },
     "metadata": {},
     "output_type": "display_data"
    },
    {
     "data": {
      "text/plain": "pytorch_model.bin:   0%|          | 0.00/3.15M [00:00<?, ?B/s]",
      "application/vnd.jupyter.widget-view+json": {
       "version_major": 2,
       "version_minor": 0,
       "model_id": "1337691f9da94dbf9798416a1d8c97f1"
      }
     },
     "metadata": {},
     "output_type": "display_data"
    },
    {
     "data": {
      "text/plain": "README.md:   0%|          | 0.00/66.3k [00:00<?, ?B/s]",
      "application/vnd.jupyter.widget-view+json": {
       "version_major": 2,
       "version_minor": 0,
       "model_id": "aae41d576240499b8ee5502b1e62619c"
      }
     },
     "metadata": {},
     "output_type": "display_data"
    },
    {
     "data": {
      "text/plain": "config.json:   0%|          | 0.00/1.53k [00:00<?, ?B/s]",
      "application/vnd.jupyter.widget-view+json": {
       "version_major": 2,
       "version_minor": 0,
       "model_id": "0ba29ed8d3bc449abd36f49a9abb304e"
      }
     },
     "metadata": {},
     "output_type": "display_data"
    },
    {
     "data": {
      "text/plain": "config_sentence_transformers.json:   0%|          | 0.00/122 [00:00<?, ?B/s]",
      "application/vnd.jupyter.widget-view+json": {
       "version_major": 2,
       "version_minor": 0,
       "model_id": "eec56702cf5c43e1bb1fc01e1ed92155"
      }
     },
     "metadata": {},
     "output_type": "display_data"
    },
    {
     "data": {
      "text/plain": "pytorch_model.bin:   0%|          | 0.00/1.34G [00:00<?, ?B/s]",
      "application/vnd.jupyter.widget-view+json": {
       "version_major": 2,
       "version_minor": 0,
       "model_id": "ebaace9c6438409bb91a0d068e4297a3"
      }
     },
     "metadata": {},
     "output_type": "display_data"
    },
    {
     "data": {
      "text/plain": "sentence_bert_config.json:   0%|          | 0.00/53.0 [00:00<?, ?B/s]",
      "application/vnd.jupyter.widget-view+json": {
       "version_major": 2,
       "version_minor": 0,
       "model_id": "b4dea02925ae4e608516219373d17d0a"
      }
     },
     "metadata": {},
     "output_type": "display_data"
    },
    {
     "data": {
      "text/plain": "special_tokens_map.json:   0%|          | 0.00/2.20k [00:00<?, ?B/s]",
      "application/vnd.jupyter.widget-view+json": {
       "version_major": 2,
       "version_minor": 0,
       "model_id": "2b6dac8f1b8b40ee828d14c68a5b32f8"
      }
     },
     "metadata": {},
     "output_type": "display_data"
    },
    {
     "data": {
      "text/plain": "spiece.model:   0%|          | 0.00/792k [00:00<?, ?B/s]",
      "application/vnd.jupyter.widget-view+json": {
       "version_major": 2,
       "version_minor": 0,
       "model_id": "0f78f7693f654cf8a89fbff6d84d5408"
      }
     },
     "metadata": {},
     "output_type": "display_data"
    },
    {
     "data": {
      "text/plain": "tokenizer.json:   0%|          | 0.00/2.42M [00:00<?, ?B/s]",
      "application/vnd.jupyter.widget-view+json": {
       "version_major": 2,
       "version_minor": 0,
       "model_id": "362014efb399445cbb59e32634de3dd0"
      }
     },
     "metadata": {},
     "output_type": "display_data"
    },
    {
     "data": {
      "text/plain": "tokenizer_config.json:   0%|          | 0.00/2.41k [00:00<?, ?B/s]",
      "application/vnd.jupyter.widget-view+json": {
       "version_major": 2,
       "version_minor": 0,
       "model_id": "e1ccf8d98351423cbd14aeeb8589c6d5"
      }
     },
     "metadata": {},
     "output_type": "display_data"
    },
    {
     "data": {
      "text/plain": "modules.json:   0%|          | 0.00/461 [00:00<?, ?B/s]",
      "application/vnd.jupyter.widget-view+json": {
       "version_major": 2,
       "version_minor": 0,
       "model_id": "be7ba23ad2fc46b796e400a0581b7278"
      }
     },
     "metadata": {},
     "output_type": "display_data"
    },
    {
     "name": "stdout",
     "output_type": "stream",
     "text": [
      "load INSTRUCTOR_Transformer\n"
     ]
    },
    {
     "name": "stderr",
     "output_type": "stream",
     "text": [
      "D:\\Users\\dell\\anaconda3\\Lib\\site-packages\\torch\\_utils.py:831: UserWarning: TypedStorage is deprecated. It will be removed in the future and UntypedStorage will be the only storage class. This should only matter to you if you are using storages directly.  To access UntypedStorage directly, use tensor.untyped_storage() instead of tensor.storage()\n",
      "  return self.fget.__get__(instance, owner)()\n"
     ]
    },
    {
     "name": "stdout",
     "output_type": "stream",
     "text": [
      "max_seq_length  512\n",
      "(10, 768)\n"
     ]
    }
   ],
   "source": [
    "model = INSTRUCTOR('hkunlp/instructor-large')\n",
    "embeddings = model.encode(list(openpack_sentences.values()))\n",
    "print(embeddings.shape)"
   ],
   "metadata": {
    "collapsed": false,
    "ExecuteTime": {
     "end_time": "2024-05-01T05:13:25.954387100Z",
     "start_time": "2024-05-01T05:05:17.095704800Z"
    }
   },
   "id": "ee3b4b907e31045b",
   "execution_count": 3
  },
  {
   "cell_type": "code",
   "outputs": [
    {
     "name": "stderr",
     "output_type": "stream",
     "text": [
      "D:\\Users\\dell\\anaconda3\\Lib\\site-packages\\sklearn\\cluster\\_kmeans.py:1412: FutureWarning: The default value of `n_init` will change from 10 to 'auto' in 1.4. Set the value of `n_init` explicitly to suppress the warning\n",
      "  super()._check_params_vs_input(X, default_n_init=10)\n",
      "D:\\Users\\dell\\anaconda3\\Lib\\site-packages\\sklearn\\cluster\\_kmeans.py:1436: UserWarning: KMeans is known to have a memory leak on Windows with MKL, when there are less chunks than available threads. You can avoid it by setting the environment variable OMP_NUM_THREADS=1.\n",
      "  warnings.warn(\n"
     ]
    }
   ],
   "source": [
    "kmeans = KMeans(n_clusters=10)\n",
    "# Reduce dimensionality using t-SNE\n",
    "tsne = TSNE(n_components=2, perplexity=5, metric=\"cosine\", init=\"random\")  # Adjust perplexity here\n",
    "embeddings_tsne = tsne.fit_transform(embeddings)\n",
    "labels = kmeans.fit_predict(embeddings)"
   ],
   "metadata": {
    "collapsed": false,
    "ExecuteTime": {
     "end_time": "2024-05-01T05:16:11.462520100Z",
     "start_time": "2024-05-01T05:16:10.579084200Z"
    }
   },
   "id": "2c76cb5e2253e504",
   "execution_count": 7
  },
  {
   "cell_type": "code",
   "outputs": [
    {
     "data": {
      "text/plain": "(10, 2)"
     },
     "execution_count": 9,
     "metadata": {},
     "output_type": "execute_result"
    }
   ],
   "source": [
    "embeddings_tsne.shape"
   ],
   "metadata": {
    "collapsed": false,
    "ExecuteTime": {
     "end_time": "2024-05-01T05:16:37.938262900Z",
     "start_time": "2024-05-01T05:16:37.901670900Z"
    }
   },
   "id": "9811ba595a7238d2",
   "execution_count": 9
  },
  {
   "cell_type": "code",
   "outputs": [
    {
     "data": {
      "text/plain": "<Figure size 800x600 with 2 Axes>",
      "image/png": "[encoded data removed]"
     },
     "metadata": {},
     "output_type": "display_data"
    }
   ],
   "source": [
    "plt.figure(figsize=(8, 6))\n",
    "plt.scatter(embeddings_tsne[:, 0], embeddings_tsne[:, 1],c=labels, cmap='viridis')\n",
    "plt.title('t-SNE Visualization of Clusters')\n",
    "plt.xlabel('t-SNE Dimension 1')\n",
    "plt.ylabel('t-SNE Dimension 2')\n",
    "# plt.legend()\n",
    "plt.colorbar(label='Cluster')\n",
    "plt.show()"
   ],
   "metadata": {
    "collapsed": false,
    "ExecuteTime": {
     "end_time": "2024-05-01T05:18:22.674534800Z",
     "start_time": "2024-05-01T05:18:22.404090600Z"
    }
   },
   "id": "edc675be231c2290",
   "execution_count": 15
  },
  {
   "cell_type": "code",
   "outputs": [
    {
     "data": {
      "text/plain": "array([2, 8, 6, 0, 7, 1, 5, 9, 4, 3])"
     },
     "execution_count": 11,
     "metadata": {},
     "output_type": "execute_result"
    }
   ],
   "source": [
    "labels"
   ],
   "metadata": {
    "collapsed": false,
    "ExecuteTime": {
     "end_time": "2024-05-01T05:17:28.992100400Z",
     "start_time": "2024-05-01T05:17:28.965886700Z"
    }
   },
   "id": "9d4e31c250292a84",
   "execution_count": 11
  }
 ],
 "metadata": {
  "kernelspec": {
   "display_name": "Python 3",
   "language": "python",
   "name": "python3"
  },
  "language_info": {
   "codemirror_mode": {
    "name": "ipython",
    "version": 2
   },
   "file_extension": ".py",
   "mimetype": "text/x-python",
   "name": "python",
   "nbconvert_exporter": "python",
   "pygments_lexer": "ipython2",
   "version": "2.7.6"
  }
 },
 "nbformat": 4,
 "nbformat_minor": 5
}
